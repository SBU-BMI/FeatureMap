{
 "cells": [
  {
   "cell_type": "code",
   "execution_count": 1,
   "metadata": {},
   "outputs": [
    {
     "name": "stderr",
     "output_type": "stream",
     "text": [
      "/usr/local/lib/python2.7/site-packages/ipykernel_launcher.py:18: SettingWithCopyWarning: \n",
      "A value is trying to be set on a copy of a slice from a DataFrame.\n",
      "Try using .loc[row_indexer,col_indexer] = value instead\n",
      "\n",
      "See the caveats in the documentation: http://pandas.pydata.org/pandas-docs/stable/indexing.html#indexing-view-versus-copy\n",
      "/usr/local/lib/python2.7/site-packages/ipykernel_launcher.py:19: SettingWithCopyWarning: \n",
      "A value is trying to be set on a copy of a slice from a DataFrame.\n",
      "Try using .loc[row_indexer,col_indexer] = value instead\n",
      "\n",
      "See the caveats in the documentation: http://pandas.pydata.org/pandas-docs/stable/indexing.html#indexing-view-versus-copy\n",
      "/usr/local/lib/python2.7/site-packages/ipykernel_launcher.py:20: SettingWithCopyWarning: \n",
      "A value is trying to be set on a copy of a slice from a DataFrame.\n",
      "Try using .loc[row_indexer,col_indexer] = value instead\n",
      "\n",
      "See the caveats in the documentation: http://pandas.pydata.org/pandas-docs/stable/indexing.html#indexing-view-versus-copy\n",
      "/usr/local/lib/python2.7/site-packages/pandas/core/generic.py:5096: SettingWithCopyWarning: \n",
      "A value is trying to be set on a copy of a slice from a DataFrame.\n",
      "Try using .loc[row_indexer,col_indexer] = value instead\n",
      "\n",
      "See the caveats in the documentation: http://pandas.pydata.org/pandas-docs/stable/indexing.html#indexing-view-versus-copy\n",
      "  self[name] = value\n"
     ]
    }
   ],
   "source": [
    "import numpy as np\n",
    "import pandas as pd\n",
    "\n",
    "filename = 'patch_level_radiomics_feature_VTRPDAC_Test_PC3896_BL1_XX.csv'\n",
    "# filename = 'VTRPDAC_Test_PC3896_BL1_XX.csv'\n",
    "df = pd.read_csv(filename)\n",
    "\n",
    "obj = {\"img_width\": df['image_width'].iloc[0],\n",
    "       \"img_height\": df['image_height'].iloc[0],\n",
    "       \"patch_w\": df['patch_width'].iloc[0],\n",
    "       \"patch_h\": df['patch_height'].iloc[0],\n",
    "       \"png_w\": df['image_width'].iloc[0] / df['patch_width'].iloc[0],\n",
    "       \"png_h\": df['image_height'].iloc[0] / df['patch_height'].iloc[0]}\n",
    "\n",
    "cols = list(df.columns)\n",
    "modified = df[cols[5:7] + cols[11:12]]\n",
    "modified.sort_values(['patch_x', 'patch_y'], ascending=[1, 1])\n",
    "modified['i'] = modified['patch_x'] / df['patch_width']\n",
    "modified['j'] = modified['patch_y'] / df['patch_height']\n",
    "modified['n'] = modified['nuclei_ratio'] * 255\n",
    "# .loc[row_indexer,col_indexer] = value\n",
    "\n",
    "# modified.n = modified.n.round()\n",
    "modified.i = np.ceil(modified.i).astype(int)\n",
    "modified.j = np.ceil(modified.j).astype(int)\n",
    "modified.n = np.ceil(modified.n).astype(int)\n",
    "\n",
    "modified\n",
    "modified.to_csv('modified.csv', index=False)\n",
    "\n",
    "# df['nuclei_ratio']\n"
   ]
  },
  {
   "cell_type": "code",
   "execution_count": null,
   "metadata": {},
   "outputs": [],
   "source": []
  }
 ],
 "metadata": {
  "kernelspec": {
   "display_name": "Python 3",
   "language": "python",
   "name": "python3"
  },
  "language_info": {
   "codemirror_mode": {
    "name": "ipython",
    "version": 2
   },
   "file_extension": ".py",
   "mimetype": "text/x-python",
   "name": "python",
   "nbconvert_exporter": "python",
   "pygments_lexer": "ipython2",
   "version": "2.7.16"
  }
 },
 "nbformat": 4,
 "nbformat_minor": 2
}
